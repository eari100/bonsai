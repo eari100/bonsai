{
 "cells": [
  {
   "metadata": {},
   "cell_type": "markdown",
   "source": "<a href=\"https://colab.research.google.com/github/eari100/bonsai/blob/vgg-19/bonsai/models/vgg19/tests/VGG19_ImageNet_validation_example.ipynb\" target=\"_parent\"><img src=\"https://colab.research.google.com/assets/colab-badge.svg\" alt=\"Open In Colab\"/></a>",
   "id": "a60d017acb7ba8f0"
  },
  {
   "metadata": {},
   "cell_type": "markdown",
   "source": "Suggested runtime: GPU (A100/H100) or TPU v2-8",
   "id": "7f8b5f3b6292bd53"
  },
  {
   "metadata": {},
   "cell_type": "markdown",
   "source": [
    "# **ImageNet Classification with VGG-19**\n",
    "\n",
    "This notebook demonstrates how to use the VGG-19 model from the Bonsai library to perform ImageNet classification on real images. The model is pre-trained on ImageNet-1K and can classify images into 1000 different categories.\n",
    "\n",
    "*This colab demonstrates the VGG-19 implementation from the [Bonsai library](https://github.com/jax-ml/bonsai).*"
   ],
   "id": "69845a8393f853c1"
  }
 ],
 "metadata": {
  "kernelspec": {
   "display_name": "Python 3",
   "language": "python",
   "name": "python3"
  },
  "language_info": {
   "codemirror_mode": {
    "name": "ipython",
    "version": 2
   },
   "file_extension": ".py",
   "mimetype": "text/x-python",
   "name": "python",
   "nbconvert_exporter": "python",
   "pygments_lexer": "ipython2",
   "version": "2.7.6"
  }
 },
 "nbformat": 4,
 "nbformat_minor": 5
}
